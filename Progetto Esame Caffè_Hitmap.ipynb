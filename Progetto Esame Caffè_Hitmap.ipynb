{
 "cells": [
  {
   "cell_type": "markdown",
   "id": "5e7468f6",
   "metadata": {},
   "source": [
    "PROGETTO DI ESAME PER LABORATORIO DI BIG DATA, DATA MINING E DATA ANALYTICS\n",
    "\n",
    "Questo progetto si prefigge di rappresentare i consumi totali in kWh (kiloWatt ora) della macchina del caffè situata nei laboratori del' azienda ALEXIDE Cesena con una heatmap che abbia sull'asse x le ore del giorno e sull'asse y il giorno della settimana.\n",
    "\n",
    "A SEGUIRE IL TESTO DELLA CONSEGNA PROPOSTA DAL PROF, DEGLI OBIETTIVI DEL PROGETTO\n",
    "\n",
    "Il file 'Data.csv' contiene i dati relativi al consumo di energia elettrica della macchina del caffè di Alexide.\n",
    "\n",
    "La colonna \"Date\" rappresenta data e ora della registrazione del sensore. Si noti che le date sono espresse in UTC. Per convertirle nella timezone locale utilizzare\n",
    "\n",
    "df['Date'] = pd.to_datetime(df['Date'], utc = True).dt.tz_convert('Europe/Berlin')\n",
    "\n",
    "La colonna \"Energy\" rappresenta il consumo di energia totale, espressa in W per min (Watt minuto), a partire dall'accensione del sensore. Si noti che il sensore è stato riavviato diverse volte nel periodo di osservazione e, a seguito di ciascun riavvio, il conteggio è ripartito da 0.\n",
    "\n",
    "La colonna \"Topic\" rappresenta il topic del messaggio mqtt ricevuto dal sensore.\n",
    "\n",
    "OBIETTIVO FINALE\n",
    "\n",
    "1) Rappresentare i consumi totali in kWh (kiloWatt/ora) con una heatmap che abbia sull'asse x le ore del giorno e sull'asse y il giorno della settimana."
   ]
  },
  {
   "cell_type": "markdown",
   "id": "166f75fa",
   "metadata": {},
   "source": [
    "Importo le librerie con le quali abbiamo lavorato"
   ]
  },
  {
   "cell_type": "code",
   "execution_count": 22,
   "id": "341d5a8f",
   "metadata": {},
   "outputs": [],
   "source": [
    "import numpy as np\n",
    "import pandas as pd\n",
    "from datetime import datetime\n",
    "import matplotlib.pyplot as plt\n",
    "import seaborn as sns"
   ]
  },
  {
   "cell_type": "markdown",
   "id": "97bfe677",
   "metadata": {},
   "source": [
    "Carico il file \"data\" con all'interno 3 Colonne di dati, la prima relativa al consumo energetico la seconda relativa al campo data con ora la terza il messaggio topic del messaggio MQTT \n",
    "Lo importiamo nel nostro Data Frame impostando come separatore il \";\" dal file CSV"
   ]
  },
  {
   "cell_type": "code",
   "execution_count": 23,
   "id": "18edfd62",
   "metadata": {},
   "outputs": [],
   "source": [
    "df = pd.read_csv('data.csv', sep=';')"
   ]
  },
  {
   "cell_type": "markdown",
   "id": "1847da99",
   "metadata": {},
   "source": [
    "visualizzo il DF che ho caricato"
   ]
  },
  {
   "cell_type": "code",
   "execution_count": 24,
   "id": "e9ca69e9",
   "metadata": {},
   "outputs": [
    {
     "data": {
      "text/html": [
       "<div>\n",
       "<style scoped>\n",
       "    .dataframe tbody tr th:only-of-type {\n",
       "        vertical-align: middle;\n",
       "    }\n",
       "\n",
       "    .dataframe tbody tr th {\n",
       "        vertical-align: top;\n",
       "    }\n",
       "\n",
       "    .dataframe thead th {\n",
       "        text-align: right;\n",
       "    }\n",
       "</style>\n",
       "<table border=\"1\" class=\"dataframe\">\n",
       "  <thead>\n",
       "    <tr style=\"text-align: right;\">\n",
       "      <th></th>\n",
       "      <th>Energy</th>\n",
       "      <th>Date</th>\n",
       "      <th>Topic</th>\n",
       "    </tr>\n",
       "  </thead>\n",
       "  <tbody>\n",
       "    <tr>\n",
       "      <th>0</th>\n",
       "      <td>31678</td>\n",
       "      <td>2022-10-04 07:44:00+00:00</td>\n",
       "      <td>shellies/shellyplug-s-D9B9EB/relay/0/energy</td>\n",
       "    </tr>\n",
       "    <tr>\n",
       "      <th>1</th>\n",
       "      <td>31680</td>\n",
       "      <td>2022-10-04 07:45:02+00:00</td>\n",
       "      <td>shellies/shellyplug-s-D9B9EB/relay/0/energy</td>\n",
       "    </tr>\n",
       "    <tr>\n",
       "      <th>2</th>\n",
       "      <td>31688</td>\n",
       "      <td>2022-10-04 07:46:04+00:00</td>\n",
       "      <td>shellies/shellyplug-s-D9B9EB/relay/0/energy</td>\n",
       "    </tr>\n",
       "    <tr>\n",
       "      <th>3</th>\n",
       "      <td>31692</td>\n",
       "      <td>2022-10-04 07:47:21+00:00</td>\n",
       "      <td>shellies/shellyplug-s-D9B9EB/relay/0/energy</td>\n",
       "    </tr>\n",
       "    <tr>\n",
       "      <th>4</th>\n",
       "      <td>31694</td>\n",
       "      <td>2022-10-04 07:48:15+00:00</td>\n",
       "      <td>shellies/shellyplug-s-D9B9EB/relay/0/energy</td>\n",
       "    </tr>\n",
       "    <tr>\n",
       "      <th>...</th>\n",
       "      <td>...</td>\n",
       "      <td>...</td>\n",
       "      <td>...</td>\n",
       "    </tr>\n",
       "    <tr>\n",
       "      <th>54789</th>\n",
       "      <td>129200</td>\n",
       "      <td>2022-07-31 22:29:21+00:00</td>\n",
       "      <td>shellies/shellyplug-s-D9B9EB/relay/0/energy</td>\n",
       "    </tr>\n",
       "    <tr>\n",
       "      <th>54790</th>\n",
       "      <td>129200</td>\n",
       "      <td>2022-07-31 22:24:20+00:00</td>\n",
       "      <td>shellies/shellyplug-s-D9B9EB/relay/0/energy</td>\n",
       "    </tr>\n",
       "    <tr>\n",
       "      <th>54791</th>\n",
       "      <td>129200</td>\n",
       "      <td>2022-07-31 22:19:21+00:00</td>\n",
       "      <td>shellies/shellyplug-s-D9B9EB/relay/0/energy</td>\n",
       "    </tr>\n",
       "    <tr>\n",
       "      <th>54792</th>\n",
       "      <td>129200</td>\n",
       "      <td>2022-07-31 22:14:21+00:00</td>\n",
       "      <td>shellies/shellyplug-s-D9B9EB/relay/0/energy</td>\n",
       "    </tr>\n",
       "    <tr>\n",
       "      <th>54793</th>\n",
       "      <td>129200</td>\n",
       "      <td>2022-07-31 22:09:07+00:00</td>\n",
       "      <td>shellies/shellyplug-s-D9B9EB/relay/0/energy</td>\n",
       "    </tr>\n",
       "  </tbody>\n",
       "</table>\n",
       "<p>54794 rows × 3 columns</p>\n",
       "</div>"
      ],
      "text/plain": [
       "       Energy                       Date  \\\n",
       "0       31678  2022-10-04 07:44:00+00:00   \n",
       "1       31680  2022-10-04 07:45:02+00:00   \n",
       "2       31688  2022-10-04 07:46:04+00:00   \n",
       "3       31692  2022-10-04 07:47:21+00:00   \n",
       "4       31694  2022-10-04 07:48:15+00:00   \n",
       "...       ...                        ...   \n",
       "54789  129200  2022-07-31 22:29:21+00:00   \n",
       "54790  129200  2022-07-31 22:24:20+00:00   \n",
       "54791  129200  2022-07-31 22:19:21+00:00   \n",
       "54792  129200  2022-07-31 22:14:21+00:00   \n",
       "54793  129200  2022-07-31 22:09:07+00:00   \n",
       "\n",
       "                                             Topic  \n",
       "0      shellies/shellyplug-s-D9B9EB/relay/0/energy  \n",
       "1      shellies/shellyplug-s-D9B9EB/relay/0/energy  \n",
       "2      shellies/shellyplug-s-D9B9EB/relay/0/energy  \n",
       "3      shellies/shellyplug-s-D9B9EB/relay/0/energy  \n",
       "4      shellies/shellyplug-s-D9B9EB/relay/0/energy  \n",
       "...                                            ...  \n",
       "54789  shellies/shellyplug-s-D9B9EB/relay/0/energy  \n",
       "54790  shellies/shellyplug-s-D9B9EB/relay/0/energy  \n",
       "54791  shellies/shellyplug-s-D9B9EB/relay/0/energy  \n",
       "54792  shellies/shellyplug-s-D9B9EB/relay/0/energy  \n",
       "54793  shellies/shellyplug-s-D9B9EB/relay/0/energy  \n",
       "\n",
       "[54794 rows x 3 columns]"
      ]
     },
     "execution_count": 24,
     "metadata": {},
     "output_type": "execute_result"
    }
   ],
   "source": [
    "df"
   ]
  },
  {
   "cell_type": "markdown",
   "id": "960efbc1",
   "metadata": {},
   "source": [
    "visualizzo le relative informazioni su colonne, i tipi di dati ed eventuali valori nulli"
   ]
  },
  {
   "cell_type": "code",
   "execution_count": 25,
   "id": "028c25a4",
   "metadata": {},
   "outputs": [
    {
     "name": "stdout",
     "output_type": "stream",
     "text": [
      "<class 'pandas.core.frame.DataFrame'>\n",
      "RangeIndex: 54794 entries, 0 to 54793\n",
      "Data columns (total 3 columns):\n",
      " #   Column  Non-Null Count  Dtype \n",
      "---  ------  --------------  ----- \n",
      " 0   Energy  54794 non-null  int64 \n",
      " 1   Date    54794 non-null  object\n",
      " 2   Topic   54794 non-null  object\n",
      "dtypes: int64(1), object(2)\n",
      "memory usage: 1.3+ MB\n"
     ]
    }
   ],
   "source": [
    "df.info()"
   ]
  },
  {
   "cell_type": "markdown",
   "id": "fc3d412f",
   "metadata": {},
   "source": [
    "Converto la colonna \"Date\" in formato \"Datatime\" per comodita e setto la colonna allineandola al fuso orario giusto"
   ]
  },
  {
   "cell_type": "code",
   "execution_count": 26,
   "id": "050e9815",
   "metadata": {},
   "outputs": [],
   "source": [
    "df['Date'] = pd.to_datetime(df['Date'], utc = True).dt.tz_convert('Europe/Berlin')"
   ]
  },
  {
   "cell_type": "markdown",
   "id": "5ba41d73",
   "metadata": {},
   "source": [
    "Controllo che l'impostazione della data sia avvenuta"
   ]
  },
  {
   "cell_type": "code",
   "execution_count": 27,
   "id": "a94fb615",
   "metadata": {},
   "outputs": [
    {
     "name": "stdout",
     "output_type": "stream",
     "text": [
      "<class 'pandas.core.frame.DataFrame'>\n",
      "RangeIndex: 54794 entries, 0 to 54793\n",
      "Data columns (total 3 columns):\n",
      " #   Column  Non-Null Count  Dtype                        \n",
      "---  ------  --------------  -----                        \n",
      " 0   Energy  54794 non-null  int64                        \n",
      " 1   Date    54794 non-null  datetime64[ns, Europe/Berlin]\n",
      " 2   Topic   54794 non-null  object                       \n",
      "dtypes: datetime64[ns, Europe/Berlin](1), int64(1), object(1)\n",
      "memory usage: 1.3+ MB\n"
     ]
    }
   ],
   "source": [
    "df.info()"
   ]
  },
  {
   "cell_type": "markdown",
   "id": "9d5e3714",
   "metadata": {},
   "source": [
    "Ordino le colonne per data in sequenza temporale per lavorare meglio nel dataset"
   ]
  },
  {
   "cell_type": "code",
   "execution_count": 28,
   "id": "630c61ee",
   "metadata": {},
   "outputs": [],
   "source": [
    "df = df.sort_values('Date')"
   ]
  },
  {
   "cell_type": "markdown",
   "id": "8a4fa2c0",
   "metadata": {},
   "source": [
    "La colonna \"Energy\" riporta la quantità di energia totale incrementale osserveta del sensore in (W/min), per ottenere il valore in (KWa) la converto dividendola per 1000\n",
    "ottengo così (KWa/min)"
   ]
  },
  {
   "cell_type": "code",
   "execution_count": 29,
   "id": "d1d56578",
   "metadata": {},
   "outputs": [],
   "source": [
    "df['Energy'] = df['Energy']/1000"
   ]
  },
  {
   "cell_type": "markdown",
   "id": "0b3a0089",
   "metadata": {},
   "source": [
    "Creo una colonna relativa al consumo reale utilizzando la funzione (.diff) che esegue la\n",
    "differenza tra i valori della righa in questione e la sua precedente"
   ]
  },
  {
   "cell_type": "code",
   "execution_count": 30,
   "id": "76df8100",
   "metadata": {},
   "outputs": [],
   "source": [
    "df['ConsumoMinuto'] = df['Energy'].diff()"
   ]
  },
  {
   "cell_type": "markdown",
   "id": "3e9cb66b",
   "metadata": {},
   "source": [
    "Converto in fine la colonna dei consumi nel valore (KWa/h) specificati nell'obiettivo dividendo\n",
    "la colonna per 60"
   ]
  },
  {
   "cell_type": "code",
   "execution_count": 31,
   "id": "ee0a3cf3",
   "metadata": {},
   "outputs": [],
   "source": [
    "df['ConsOra'] = df['ConsumoMinuto']/60"
   ]
  },
  {
   "cell_type": "markdown",
   "id": "557b0632",
   "metadata": {},
   "source": [
    "Visualizzo le nuove colonne create"
   ]
  },
  {
   "cell_type": "code",
   "execution_count": 32,
   "id": "a8fc71c7",
   "metadata": {},
   "outputs": [
    {
     "data": {
      "text/html": [
       "<div>\n",
       "<style scoped>\n",
       "    .dataframe tbody tr th:only-of-type {\n",
       "        vertical-align: middle;\n",
       "    }\n",
       "\n",
       "    .dataframe tbody tr th {\n",
       "        vertical-align: top;\n",
       "    }\n",
       "\n",
       "    .dataframe thead th {\n",
       "        text-align: right;\n",
       "    }\n",
       "</style>\n",
       "<table border=\"1\" class=\"dataframe\">\n",
       "  <thead>\n",
       "    <tr style=\"text-align: right;\">\n",
       "      <th></th>\n",
       "      <th>Energy</th>\n",
       "      <th>Date</th>\n",
       "      <th>Topic</th>\n",
       "      <th>ConsumoMinuto</th>\n",
       "      <th>ConsOra</th>\n",
       "    </tr>\n",
       "  </thead>\n",
       "  <tbody>\n",
       "    <tr>\n",
       "      <th>54793</th>\n",
       "      <td>129.200</td>\n",
       "      <td>2022-08-01 00:09:07+02:00</td>\n",
       "      <td>shellies/shellyplug-s-D9B9EB/relay/0/energy</td>\n",
       "      <td>NaN</td>\n",
       "      <td>NaN</td>\n",
       "    </tr>\n",
       "    <tr>\n",
       "      <th>54792</th>\n",
       "      <td>129.200</td>\n",
       "      <td>2022-08-01 00:14:21+02:00</td>\n",
       "      <td>shellies/shellyplug-s-D9B9EB/relay/0/energy</td>\n",
       "      <td>0.000</td>\n",
       "      <td>0.000000</td>\n",
       "    </tr>\n",
       "    <tr>\n",
       "      <th>54791</th>\n",
       "      <td>129.200</td>\n",
       "      <td>2022-08-01 00:19:21+02:00</td>\n",
       "      <td>shellies/shellyplug-s-D9B9EB/relay/0/energy</td>\n",
       "      <td>0.000</td>\n",
       "      <td>0.000000</td>\n",
       "    </tr>\n",
       "    <tr>\n",
       "      <th>54790</th>\n",
       "      <td>129.200</td>\n",
       "      <td>2022-08-01 00:24:20+02:00</td>\n",
       "      <td>shellies/shellyplug-s-D9B9EB/relay/0/energy</td>\n",
       "      <td>0.000</td>\n",
       "      <td>0.000000</td>\n",
       "    </tr>\n",
       "    <tr>\n",
       "      <th>54789</th>\n",
       "      <td>129.200</td>\n",
       "      <td>2022-08-01 00:29:21+02:00</td>\n",
       "      <td>shellies/shellyplug-s-D9B9EB/relay/0/energy</td>\n",
       "      <td>0.000</td>\n",
       "      <td>0.000000</td>\n",
       "    </tr>\n",
       "    <tr>\n",
       "      <th>...</th>\n",
       "      <td>...</td>\n",
       "      <td>...</td>\n",
       "      <td>...</td>\n",
       "      <td>...</td>\n",
       "      <td>...</td>\n",
       "    </tr>\n",
       "    <tr>\n",
       "      <th>50728</th>\n",
       "      <td>70.544</td>\n",
       "      <td>2022-10-06 18:39:00+02:00</td>\n",
       "      <td>shellies/shellyplug-s-D9B9EB/relay/0/energy</td>\n",
       "      <td>0.002</td>\n",
       "      <td>0.000033</td>\n",
       "    </tr>\n",
       "    <tr>\n",
       "      <th>50729</th>\n",
       "      <td>70.546</td>\n",
       "      <td>2022-10-06 18:40:01+02:00</td>\n",
       "      <td>shellies/shellyplug-s-D9B9EB/relay/0/energy</td>\n",
       "      <td>0.002</td>\n",
       "      <td>0.000033</td>\n",
       "    </tr>\n",
       "    <tr>\n",
       "      <th>50730</th>\n",
       "      <td>70.548</td>\n",
       "      <td>2022-10-06 18:41:24+02:00</td>\n",
       "      <td>shellies/shellyplug-s-D9B9EB/relay/0/energy</td>\n",
       "      <td>0.002</td>\n",
       "      <td>0.000033</td>\n",
       "    </tr>\n",
       "    <tr>\n",
       "      <th>50731</th>\n",
       "      <td>70.559</td>\n",
       "      <td>2022-10-06 18:42:01+02:00</td>\n",
       "      <td>shellies/shellyplug-s-D9B9EB/relay/0/energy</td>\n",
       "      <td>0.011</td>\n",
       "      <td>0.000183</td>\n",
       "    </tr>\n",
       "    <tr>\n",
       "      <th>50732</th>\n",
       "      <td>70.561</td>\n",
       "      <td>2022-10-06 18:43:02+02:00</td>\n",
       "      <td>shellies/shellyplug-s-D9B9EB/relay/0/energy</td>\n",
       "      <td>0.002</td>\n",
       "      <td>0.000033</td>\n",
       "    </tr>\n",
       "  </tbody>\n",
       "</table>\n",
       "<p>54794 rows × 5 columns</p>\n",
       "</div>"
      ],
      "text/plain": [
       "        Energy                      Date  \\\n",
       "54793  129.200 2022-08-01 00:09:07+02:00   \n",
       "54792  129.200 2022-08-01 00:14:21+02:00   \n",
       "54791  129.200 2022-08-01 00:19:21+02:00   \n",
       "54790  129.200 2022-08-01 00:24:20+02:00   \n",
       "54789  129.200 2022-08-01 00:29:21+02:00   \n",
       "...        ...                       ...   \n",
       "50728   70.544 2022-10-06 18:39:00+02:00   \n",
       "50729   70.546 2022-10-06 18:40:01+02:00   \n",
       "50730   70.548 2022-10-06 18:41:24+02:00   \n",
       "50731   70.559 2022-10-06 18:42:01+02:00   \n",
       "50732   70.561 2022-10-06 18:43:02+02:00   \n",
       "\n",
       "                                             Topic  ConsumoMinuto   ConsOra  \n",
       "54793  shellies/shellyplug-s-D9B9EB/relay/0/energy            NaN       NaN  \n",
       "54792  shellies/shellyplug-s-D9B9EB/relay/0/energy          0.000  0.000000  \n",
       "54791  shellies/shellyplug-s-D9B9EB/relay/0/energy          0.000  0.000000  \n",
       "54790  shellies/shellyplug-s-D9B9EB/relay/0/energy          0.000  0.000000  \n",
       "54789  shellies/shellyplug-s-D9B9EB/relay/0/energy          0.000  0.000000  \n",
       "...                                            ...            ...       ...  \n",
       "50728  shellies/shellyplug-s-D9B9EB/relay/0/energy          0.002  0.000033  \n",
       "50729  shellies/shellyplug-s-D9B9EB/relay/0/energy          0.002  0.000033  \n",
       "50730  shellies/shellyplug-s-D9B9EB/relay/0/energy          0.002  0.000033  \n",
       "50731  shellies/shellyplug-s-D9B9EB/relay/0/energy          0.011  0.000183  \n",
       "50732  shellies/shellyplug-s-D9B9EB/relay/0/energy          0.002  0.000033  \n",
       "\n",
       "[54794 rows x 5 columns]"
      ]
     },
     "execution_count": 32,
     "metadata": {},
     "output_type": "execute_result"
    }
   ],
   "source": [
    "df"
   ]
  },
  {
   "cell_type": "markdown",
   "id": "46c129e6",
   "metadata": {},
   "source": [
    "Nel nostro caso di studio il sensore si riavvia spegnendosi, il consumo energetico quindi\n",
    "riparte da (0) ad ogni riavvio\n",
    "Utilizzando il comando (.diff) si generano dei valori di differenza molto alti che non vanno\n",
    "considerati; per tenere solo i veri valori sui quali lavorare trasformo la colonna escludendo \n",
    "i valori negativi, tenengo solo i positivi"
   ]
  },
  {
   "cell_type": "code",
   "execution_count": 33,
   "id": "699f2af9",
   "metadata": {},
   "outputs": [
    {
     "data": {
      "image/png": "[encoded data removed]",
      "text/plain": [
       "<Figure size 432x288 with 1 Axes>"
      ]
     },
     "metadata": {
      "needs_background": "light"
     },
     "output_type": "display_data"
    }
   ],
   "source": [
    "df.plot(x= 'Date', y='ConsOra')\n",
    "plt.show()"
   ]
  },
  {
   "cell_type": "code",
   "execution_count": 34,
   "id": "98b8d849",
   "metadata": {},
   "outputs": [],
   "source": [
    "df = df[df['ConsOra']>=0]"
   ]
  },
  {
   "cell_type": "code",
   "execution_count": 35,
   "id": "1475d945",
   "metadata": {},
   "outputs": [
    {
     "data": {
      "image/png": "[encoded data removed]",
      "text/plain": [
       "<Figure size 432x288 with 1 Axes>"
      ]
     },
     "metadata": {
      "needs_background": "light"
     },
     "output_type": "display_data"
    }
   ],
   "source": [
    "df.plot(x= 'Date', y='ConsOra')\n",
    "plt.show()"
   ]
  },
  {
   "cell_type": "markdown",
   "id": "d7630adb",
   "metadata": {},
   "source": [
    "Scartiamo gli eventuali valori nulli che falserebbero la nostra analisi,e visualizziamo \n",
    "il DataFrame"
   ]
  },
  {
   "cell_type": "code",
   "execution_count": 36,
   "id": "8bb1dc79",
   "metadata": {},
   "outputs": [
    {
     "data": {
      "text/html": [
       "<div>\n",
       "<style scoped>\n",
       "    .dataframe tbody tr th:only-of-type {\n",
       "        vertical-align: middle;\n",
       "    }\n",
       "\n",
       "    .dataframe tbody tr th {\n",
       "        vertical-align: top;\n",
       "    }\n",
       "\n",
       "    .dataframe thead th {\n",
       "        text-align: right;\n",
       "    }\n",
       "</style>\n",
       "<table border=\"1\" class=\"dataframe\">\n",
       "  <thead>\n",
       "    <tr style=\"text-align: right;\">\n",
       "      <th></th>\n",
       "      <th>Energy</th>\n",
       "      <th>Date</th>\n",
       "      <th>Topic</th>\n",
       "      <th>ConsumoMinuto</th>\n",
       "      <th>ConsOra</th>\n",
       "    </tr>\n",
       "  </thead>\n",
       "  <tbody>\n",
       "    <tr>\n",
       "      <th>54792</th>\n",
       "      <td>129.200</td>\n",
       "      <td>2022-08-01 00:14:21+02:00</td>\n",
       "      <td>shellies/shellyplug-s-D9B9EB/relay/0/energy</td>\n",
       "      <td>0.000</td>\n",
       "      <td>0.000000</td>\n",
       "    </tr>\n",
       "    <tr>\n",
       "      <th>54791</th>\n",
       "      <td>129.200</td>\n",
       "      <td>2022-08-01 00:19:21+02:00</td>\n",
       "      <td>shellies/shellyplug-s-D9B9EB/relay/0/energy</td>\n",
       "      <td>0.000</td>\n",
       "      <td>0.000000</td>\n",
       "    </tr>\n",
       "    <tr>\n",
       "      <th>54790</th>\n",
       "      <td>129.200</td>\n",
       "      <td>2022-08-01 00:24:20+02:00</td>\n",
       "      <td>shellies/shellyplug-s-D9B9EB/relay/0/energy</td>\n",
       "      <td>0.000</td>\n",
       "      <td>0.000000</td>\n",
       "    </tr>\n",
       "    <tr>\n",
       "      <th>54789</th>\n",
       "      <td>129.200</td>\n",
       "      <td>2022-08-01 00:29:21+02:00</td>\n",
       "      <td>shellies/shellyplug-s-D9B9EB/relay/0/energy</td>\n",
       "      <td>0.000</td>\n",
       "      <td>0.000000</td>\n",
       "    </tr>\n",
       "    <tr>\n",
       "      <th>54788</th>\n",
       "      <td>129.200</td>\n",
       "      <td>2022-08-01 00:34:08+02:00</td>\n",
       "      <td>shellies/shellyplug-s-D9B9EB/relay/0/energy</td>\n",
       "      <td>0.000</td>\n",
       "      <td>0.000000</td>\n",
       "    </tr>\n",
       "    <tr>\n",
       "      <th>...</th>\n",
       "      <td>...</td>\n",
       "      <td>...</td>\n",
       "      <td>...</td>\n",
       "      <td>...</td>\n",
       "      <td>...</td>\n",
       "    </tr>\n",
       "    <tr>\n",
       "      <th>50728</th>\n",
       "      <td>70.544</td>\n",
       "      <td>2022-10-06 18:39:00+02:00</td>\n",
       "      <td>shellies/shellyplug-s-D9B9EB/relay/0/energy</td>\n",
       "      <td>0.002</td>\n",
       "      <td>0.000033</td>\n",
       "    </tr>\n",
       "    <tr>\n",
       "      <th>50729</th>\n",
       "      <td>70.546</td>\n",
       "      <td>2022-10-06 18:40:01+02:00</td>\n",
       "      <td>shellies/shellyplug-s-D9B9EB/relay/0/energy</td>\n",
       "      <td>0.002</td>\n",
       "      <td>0.000033</td>\n",
       "    </tr>\n",
       "    <tr>\n",
       "      <th>50730</th>\n",
       "      <td>70.548</td>\n",
       "      <td>2022-10-06 18:41:24+02:00</td>\n",
       "      <td>shellies/shellyplug-s-D9B9EB/relay/0/energy</td>\n",
       "      <td>0.002</td>\n",
       "      <td>0.000033</td>\n",
       "    </tr>\n",
       "    <tr>\n",
       "      <th>50731</th>\n",
       "      <td>70.559</td>\n",
       "      <td>2022-10-06 18:42:01+02:00</td>\n",
       "      <td>shellies/shellyplug-s-D9B9EB/relay/0/energy</td>\n",
       "      <td>0.011</td>\n",
       "      <td>0.000183</td>\n",
       "    </tr>\n",
       "    <tr>\n",
       "      <th>50732</th>\n",
       "      <td>70.561</td>\n",
       "      <td>2022-10-06 18:43:02+02:00</td>\n",
       "      <td>shellies/shellyplug-s-D9B9EB/relay/0/energy</td>\n",
       "      <td>0.002</td>\n",
       "      <td>0.000033</td>\n",
       "    </tr>\n",
       "  </tbody>\n",
       "</table>\n",
       "<p>54784 rows × 5 columns</p>\n",
       "</div>"
      ],
      "text/plain": [
       "        Energy                      Date  \\\n",
       "54792  129.200 2022-08-01 00:14:21+02:00   \n",
       "54791  129.200 2022-08-01 00:19:21+02:00   \n",
       "54790  129.200 2022-08-01 00:24:20+02:00   \n",
       "54789  129.200 2022-08-01 00:29:21+02:00   \n",
       "54788  129.200 2022-08-01 00:34:08+02:00   \n",
       "...        ...                       ...   \n",
       "50728   70.544 2022-10-06 18:39:00+02:00   \n",
       "50729   70.546 2022-10-06 18:40:01+02:00   \n",
       "50730   70.548 2022-10-06 18:41:24+02:00   \n",
       "50731   70.559 2022-10-06 18:42:01+02:00   \n",
       "50732   70.561 2022-10-06 18:43:02+02:00   \n",
       "\n",
       "                                             Topic  ConsumoMinuto   ConsOra  \n",
       "54792  shellies/shellyplug-s-D9B9EB/relay/0/energy          0.000  0.000000  \n",
       "54791  shellies/shellyplug-s-D9B9EB/relay/0/energy          0.000  0.000000  \n",
       "54790  shellies/shellyplug-s-D9B9EB/relay/0/energy          0.000  0.000000  \n",
       "54789  shellies/shellyplug-s-D9B9EB/relay/0/energy          0.000  0.000000  \n",
       "54788  shellies/shellyplug-s-D9B9EB/relay/0/energy          0.000  0.000000  \n",
       "...                                            ...            ...       ...  \n",
       "50728  shellies/shellyplug-s-D9B9EB/relay/0/energy          0.002  0.000033  \n",
       "50729  shellies/shellyplug-s-D9B9EB/relay/0/energy          0.002  0.000033  \n",
       "50730  shellies/shellyplug-s-D9B9EB/relay/0/energy          0.002  0.000033  \n",
       "50731  shellies/shellyplug-s-D9B9EB/relay/0/energy          0.011  0.000183  \n",
       "50732  shellies/shellyplug-s-D9B9EB/relay/0/energy          0.002  0.000033  \n",
       "\n",
       "[54784 rows x 5 columns]"
      ]
     },
     "execution_count": 36,
     "metadata": {},
     "output_type": "execute_result"
    }
   ],
   "source": [
    "df = df.dropna()\n",
    "df"
   ]
  },
  {
   "cell_type": "markdown",
   "id": "7b8cdfb4",
   "metadata": {},
   "source": [
    "Eseguo il Resample sulla base delle ore, aggrego le colonne di data sommando la colonna del \n",
    "consumo, visualizzo per ogni ora del giorno la somma dei consumi"
   ]
  },
  {
   "cell_type": "code",
   "execution_count": 37,
   "id": "1ed66f91",
   "metadata": {},
   "outputs": [],
   "source": [
    "df = df.resample('H', on='Date').agg({'ConsOra': 'sum'}).reset_index()"
   ]
  },
  {
   "cell_type": "markdown",
   "id": "1c23776d",
   "metadata": {},
   "source": [
    "Visualizzo il DF completo di valori e con le nuove modifiche fatte"
   ]
  },
  {
   "cell_type": "code",
   "execution_count": 38,
   "id": "2c7c61df",
   "metadata": {},
   "outputs": [
    {
     "data": {
      "text/html": [
       "<div>\n",
       "<style scoped>\n",
       "    .dataframe tbody tr th:only-of-type {\n",
       "        vertical-align: middle;\n",
       "    }\n",
       "\n",
       "    .dataframe tbody tr th {\n",
       "        vertical-align: top;\n",
       "    }\n",
       "\n",
       "    .dataframe thead th {\n",
       "        text-align: right;\n",
       "    }\n",
       "</style>\n",
       "<table border=\"1\" class=\"dataframe\">\n",
       "  <thead>\n",
       "    <tr style=\"text-align: right;\">\n",
       "      <th></th>\n",
       "      <th>Date</th>\n",
       "      <th>ConsOra</th>\n",
       "    </tr>\n",
       "  </thead>\n",
       "  <tbody>\n",
       "    <tr>\n",
       "      <th>0</th>\n",
       "      <td>2022-08-01 00:00:00+02:00</td>\n",
       "      <td>0.000000</td>\n",
       "    </tr>\n",
       "    <tr>\n",
       "      <th>1</th>\n",
       "      <td>2022-08-01 01:00:00+02:00</td>\n",
       "      <td>0.000000</td>\n",
       "    </tr>\n",
       "    <tr>\n",
       "      <th>2</th>\n",
       "      <td>2022-08-01 02:00:00+02:00</td>\n",
       "      <td>0.000000</td>\n",
       "    </tr>\n",
       "    <tr>\n",
       "      <th>3</th>\n",
       "      <td>2022-08-01 03:00:00+02:00</td>\n",
       "      <td>0.000000</td>\n",
       "    </tr>\n",
       "    <tr>\n",
       "      <th>4</th>\n",
       "      <td>2022-08-01 04:00:00+02:00</td>\n",
       "      <td>0.000000</td>\n",
       "    </tr>\n",
       "    <tr>\n",
       "      <th>...</th>\n",
       "      <td>...</td>\n",
       "      <td>...</td>\n",
       "    </tr>\n",
       "    <tr>\n",
       "      <th>1598</th>\n",
       "      <td>2022-10-06 14:00:00+02:00</td>\n",
       "      <td>0.024800</td>\n",
       "    </tr>\n",
       "    <tr>\n",
       "      <th>1599</th>\n",
       "      <td>2022-10-06 15:00:00+02:00</td>\n",
       "      <td>0.021067</td>\n",
       "    </tr>\n",
       "    <tr>\n",
       "      <th>1600</th>\n",
       "      <td>2022-10-06 16:00:00+02:00</td>\n",
       "      <td>0.014117</td>\n",
       "    </tr>\n",
       "    <tr>\n",
       "      <th>1601</th>\n",
       "      <td>2022-10-06 17:00:00+02:00</td>\n",
       "      <td>0.004967</td>\n",
       "    </tr>\n",
       "    <tr>\n",
       "      <th>1602</th>\n",
       "      <td>2022-10-06 18:00:00+02:00</td>\n",
       "      <td>0.001983</td>\n",
       "    </tr>\n",
       "  </tbody>\n",
       "</table>\n",
       "<p>1603 rows × 2 columns</p>\n",
       "</div>"
      ],
      "text/plain": [
       "                          Date   ConsOra\n",
       "0    2022-08-01 00:00:00+02:00  0.000000\n",
       "1    2022-08-01 01:00:00+02:00  0.000000\n",
       "2    2022-08-01 02:00:00+02:00  0.000000\n",
       "3    2022-08-01 03:00:00+02:00  0.000000\n",
       "4    2022-08-01 04:00:00+02:00  0.000000\n",
       "...                        ...       ...\n",
       "1598 2022-10-06 14:00:00+02:00  0.024800\n",
       "1599 2022-10-06 15:00:00+02:00  0.021067\n",
       "1600 2022-10-06 16:00:00+02:00  0.014117\n",
       "1601 2022-10-06 17:00:00+02:00  0.004967\n",
       "1602 2022-10-06 18:00:00+02:00  0.001983\n",
       "\n",
       "[1603 rows x 2 columns]"
      ]
     },
     "execution_count": 38,
     "metadata": {},
     "output_type": "execute_result"
    }
   ],
   "source": [
    "df"
   ]
  },
  {
   "cell_type": "markdown",
   "id": "1d1fd300",
   "metadata": {},
   "source": [
    "Creo dalla colonna \"Date\" 2 nuove colonne con giorno della settimana col metodo (dayofweek) e ora del giorno col metodo (hour), in fine\n",
    "scarto la colonna per semplificare il Data Frame."
   ]
  },
  {
   "cell_type": "code",
   "execution_count": 39,
   "id": "cc4cbc8a",
   "metadata": {},
   "outputs": [],
   "source": [
    "df['DoWeek'] = df['Date'].dt.dayofweek\n",
    "df['Hour'] = df['Date'].dt.hour\n",
    "df = df.drop(columns=['Date'])"
   ]
  },
  {
   "cell_type": "markdown",
   "id": "690b00b2",
   "metadata": {},
   "source": [
    "Formatto il mio DF in modo da raggruppare per giorno della settimana e ora, facendo la media dei dati in queste colonne ottenendo il consumo medio di quel giorno della settimana e per quel ora"
   ]
  },
  {
   "cell_type": "code",
   "execution_count": 40,
   "id": "497cebf8",
   "metadata": {},
   "outputs": [],
   "source": [
    "df = df.groupby(['DoWeek', 'Hour']).mean()"
   ]
  },
  {
   "cell_type": "markdown",
   "id": "0a79ea36",
   "metadata": {},
   "source": [
    "Visualizzo il risultato del procedimento, quindi il nuovo aspetto del mio DF"
   ]
  },
  {
   "cell_type": "code",
   "execution_count": 41,
   "id": "53427c28",
   "metadata": {},
   "outputs": [
    {
     "data": {
      "text/html": [
       "<div>\n",
       "<style scoped>\n",
       "    .dataframe tbody tr th:only-of-type {\n",
       "        vertical-align: middle;\n",
       "    }\n",
       "\n",
       "    .dataframe tbody tr th {\n",
       "        vertical-align: top;\n",
       "    }\n",
       "\n",
       "    .dataframe thead th {\n",
       "        text-align: right;\n",
       "    }\n",
       "</style>\n",
       "<table border=\"1\" class=\"dataframe\">\n",
       "  <thead>\n",
       "    <tr style=\"text-align: right;\">\n",
       "      <th></th>\n",
       "      <th></th>\n",
       "      <th>ConsOra</th>\n",
       "    </tr>\n",
       "    <tr>\n",
       "      <th>DoWeek</th>\n",
       "      <th>Hour</th>\n",
       "      <th></th>\n",
       "    </tr>\n",
       "  </thead>\n",
       "  <tbody>\n",
       "    <tr>\n",
       "      <th rowspan=\"5\" valign=\"top\">0</th>\n",
       "      <th>0</th>\n",
       "      <td>0.000312</td>\n",
       "    </tr>\n",
       "    <tr>\n",
       "      <th>1</th>\n",
       "      <td>0.000307</td>\n",
       "    </tr>\n",
       "    <tr>\n",
       "      <th>2</th>\n",
       "      <td>0.000302</td>\n",
       "    </tr>\n",
       "    <tr>\n",
       "      <th>3</th>\n",
       "      <td>0.000307</td>\n",
       "    </tr>\n",
       "    <tr>\n",
       "      <th>4</th>\n",
       "      <td>0.000303</td>\n",
       "    </tr>\n",
       "    <tr>\n",
       "      <th>...</th>\n",
       "      <th>...</th>\n",
       "      <td>...</td>\n",
       "    </tr>\n",
       "    <tr>\n",
       "      <th rowspan=\"5\" valign=\"top\">6</th>\n",
       "      <th>19</th>\n",
       "      <td>0.000330</td>\n",
       "    </tr>\n",
       "    <tr>\n",
       "      <th>20</th>\n",
       "      <td>0.000337</td>\n",
       "    </tr>\n",
       "    <tr>\n",
       "      <th>21</th>\n",
       "      <td>0.000337</td>\n",
       "    </tr>\n",
       "    <tr>\n",
       "      <th>22</th>\n",
       "      <td>0.000343</td>\n",
       "    </tr>\n",
       "    <tr>\n",
       "      <th>23</th>\n",
       "      <td>0.000346</td>\n",
       "    </tr>\n",
       "  </tbody>\n",
       "</table>\n",
       "<p>168 rows × 1 columns</p>\n",
       "</div>"
      ],
      "text/plain": [
       "              ConsOra\n",
       "DoWeek Hour          \n",
       "0      0     0.000312\n",
       "       1     0.000307\n",
       "       2     0.000302\n",
       "       3     0.000307\n",
       "       4     0.000303\n",
       "...               ...\n",
       "6      19    0.000330\n",
       "       20    0.000337\n",
       "       21    0.000337\n",
       "       22    0.000343\n",
       "       23    0.000346\n",
       "\n",
       "[168 rows x 1 columns]"
      ]
     },
     "execution_count": 41,
     "metadata": {},
     "output_type": "execute_result"
    }
   ],
   "source": [
    "df"
   ]
  },
  {
   "cell_type": "markdown",
   "id": "d5ca35f1",
   "metadata": {},
   "source": [
    "Utilizzo il metodo unstack, creo per ogni ora del giorno la sua relativa colonna di consumi"
   ]
  },
  {
   "cell_type": "code",
   "execution_count": 42,
   "id": "56cbca3b",
   "metadata": {},
   "outputs": [],
   "source": [
    "df = df.unstack()"
   ]
  },
  {
   "cell_type": "markdown",
   "id": "a7971500",
   "metadata": {},
   "source": [
    "Scarto la riga del titolo della colonna 'ConsHour' del mio DF mantenendo solo le altre righe"
   ]
  },
  {
   "cell_type": "code",
   "execution_count": 43,
   "id": "cbec088f",
   "metadata": {},
   "outputs": [],
   "source": [
    "df.columns = df.columns.droplevel(0)"
   ]
  },
  {
   "cell_type": "markdown",
   "id": "d1869a7c",
   "metadata": {},
   "source": [
    "Visualizzo di nuovo il mio DF prima della  Hitmap"
   ]
  },
  {
   "cell_type": "code",
   "execution_count": 44,
   "id": "c892ec44",
   "metadata": {},
   "outputs": [
    {
     "data": {
      "text/html": [
       "<div>\n",
       "<style scoped>\n",
       "    .dataframe tbody tr th:only-of-type {\n",
       "        vertical-align: middle;\n",
       "    }\n",
       "\n",
       "    .dataframe tbody tr th {\n",
       "        vertical-align: top;\n",
       "    }\n",
       "\n",
       "    .dataframe thead th {\n",
       "        text-align: right;\n",
       "    }\n",
       "</style>\n",
       "<table border=\"1\" class=\"dataframe\">\n",
       "  <thead>\n",
       "    <tr style=\"text-align: right;\">\n",
       "      <th>Hour</th>\n",
       "      <th>0</th>\n",
       "      <th>1</th>\n",
       "      <th>2</th>\n",
       "      <th>3</th>\n",
       "      <th>4</th>\n",
       "      <th>5</th>\n",
       "      <th>6</th>\n",
       "      <th>7</th>\n",
       "      <th>8</th>\n",
       "      <th>9</th>\n",
       "      <th>...</th>\n",
       "      <th>14</th>\n",
       "      <th>15</th>\n",
       "      <th>16</th>\n",
       "      <th>17</th>\n",
       "      <th>18</th>\n",
       "      <th>19</th>\n",
       "      <th>20</th>\n",
       "      <th>21</th>\n",
       "      <th>22</th>\n",
       "      <th>23</th>\n",
       "    </tr>\n",
       "    <tr>\n",
       "      <th>DoWeek</th>\n",
       "      <th></th>\n",
       "      <th></th>\n",
       "      <th></th>\n",
       "      <th></th>\n",
       "      <th></th>\n",
       "      <th></th>\n",
       "      <th></th>\n",
       "      <th></th>\n",
       "      <th></th>\n",
       "      <th></th>\n",
       "      <th></th>\n",
       "      <th></th>\n",
       "      <th></th>\n",
       "      <th></th>\n",
       "      <th></th>\n",
       "      <th></th>\n",
       "      <th></th>\n",
       "      <th></th>\n",
       "      <th></th>\n",
       "      <th></th>\n",
       "      <th></th>\n",
       "    </tr>\n",
       "  </thead>\n",
       "  <tbody>\n",
       "    <tr>\n",
       "      <th>0</th>\n",
       "      <td>0.000312</td>\n",
       "      <td>0.000307</td>\n",
       "      <td>0.000302</td>\n",
       "      <td>0.000307</td>\n",
       "      <td>0.000303</td>\n",
       "      <td>0.000312</td>\n",
       "      <td>0.000307</td>\n",
       "      <td>0.001765</td>\n",
       "      <td>0.019998</td>\n",
       "      <td>0.020982</td>\n",
       "      <td>...</td>\n",
       "      <td>0.016825</td>\n",
       "      <td>0.012338</td>\n",
       "      <td>0.014735</td>\n",
       "      <td>0.004240</td>\n",
       "      <td>0.001975</td>\n",
       "      <td>0.001268</td>\n",
       "      <td>0.000582</td>\n",
       "      <td>0.000347</td>\n",
       "      <td>0.000343</td>\n",
       "      <td>0.000353</td>\n",
       "    </tr>\n",
       "    <tr>\n",
       "      <th>1</th>\n",
       "      <td>0.000345</td>\n",
       "      <td>0.000355</td>\n",
       "      <td>0.000345</td>\n",
       "      <td>0.000352</td>\n",
       "      <td>0.000347</td>\n",
       "      <td>0.000343</td>\n",
       "      <td>0.000353</td>\n",
       "      <td>0.006875</td>\n",
       "      <td>0.011440</td>\n",
       "      <td>0.024937</td>\n",
       "      <td>...</td>\n",
       "      <td>0.013362</td>\n",
       "      <td>0.017862</td>\n",
       "      <td>0.015378</td>\n",
       "      <td>0.006423</td>\n",
       "      <td>0.002002</td>\n",
       "      <td>0.000927</td>\n",
       "      <td>0.000462</td>\n",
       "      <td>0.000347</td>\n",
       "      <td>0.000347</td>\n",
       "      <td>0.000357</td>\n",
       "    </tr>\n",
       "    <tr>\n",
       "      <th>2</th>\n",
       "      <td>0.000353</td>\n",
       "      <td>0.000348</td>\n",
       "      <td>0.000345</td>\n",
       "      <td>0.000347</td>\n",
       "      <td>0.000340</td>\n",
       "      <td>0.000350</td>\n",
       "      <td>0.000353</td>\n",
       "      <td>0.010958</td>\n",
       "      <td>0.008107</td>\n",
       "      <td>0.021953</td>\n",
       "      <td>...</td>\n",
       "      <td>0.017893</td>\n",
       "      <td>0.010435</td>\n",
       "      <td>0.019962</td>\n",
       "      <td>0.010677</td>\n",
       "      <td>0.001778</td>\n",
       "      <td>0.001103</td>\n",
       "      <td>0.000547</td>\n",
       "      <td>0.000355</td>\n",
       "      <td>0.000350</td>\n",
       "      <td>0.000350</td>\n",
       "    </tr>\n",
       "    <tr>\n",
       "      <th>3</th>\n",
       "      <td>0.000353</td>\n",
       "      <td>0.000352</td>\n",
       "      <td>0.000348</td>\n",
       "      <td>0.000348</td>\n",
       "      <td>0.000347</td>\n",
       "      <td>0.000347</td>\n",
       "      <td>0.000357</td>\n",
       "      <td>0.007193</td>\n",
       "      <td>0.011482</td>\n",
       "      <td>0.026478</td>\n",
       "      <td>...</td>\n",
       "      <td>0.017393</td>\n",
       "      <td>0.018418</td>\n",
       "      <td>0.007108</td>\n",
       "      <td>0.003575</td>\n",
       "      <td>0.001458</td>\n",
       "      <td>0.001157</td>\n",
       "      <td>0.000394</td>\n",
       "      <td>0.000359</td>\n",
       "      <td>0.000357</td>\n",
       "      <td>0.000354</td>\n",
       "    </tr>\n",
       "    <tr>\n",
       "      <th>4</th>\n",
       "      <td>0.000354</td>\n",
       "      <td>0.000350</td>\n",
       "      <td>0.000346</td>\n",
       "      <td>0.000346</td>\n",
       "      <td>0.000346</td>\n",
       "      <td>0.000354</td>\n",
       "      <td>0.000350</td>\n",
       "      <td>0.006276</td>\n",
       "      <td>0.011109</td>\n",
       "      <td>0.026020</td>\n",
       "      <td>...</td>\n",
       "      <td>0.015454</td>\n",
       "      <td>0.013811</td>\n",
       "      <td>0.011507</td>\n",
       "      <td>0.003204</td>\n",
       "      <td>0.001535</td>\n",
       "      <td>0.000787</td>\n",
       "      <td>0.000341</td>\n",
       "      <td>0.000357</td>\n",
       "      <td>0.000352</td>\n",
       "      <td>0.000350</td>\n",
       "    </tr>\n",
       "    <tr>\n",
       "      <th>5</th>\n",
       "      <td>0.000354</td>\n",
       "      <td>0.000350</td>\n",
       "      <td>0.000350</td>\n",
       "      <td>0.000352</td>\n",
       "      <td>0.000343</td>\n",
       "      <td>0.000346</td>\n",
       "      <td>0.000350</td>\n",
       "      <td>0.002698</td>\n",
       "      <td>0.000880</td>\n",
       "      <td>0.000891</td>\n",
       "      <td>...</td>\n",
       "      <td>0.000878</td>\n",
       "      <td>0.001794</td>\n",
       "      <td>0.002946</td>\n",
       "      <td>0.001230</td>\n",
       "      <td>0.001109</td>\n",
       "      <td>0.000822</td>\n",
       "      <td>0.000350</td>\n",
       "      <td>0.000341</td>\n",
       "      <td>0.000344</td>\n",
       "      <td>0.000343</td>\n",
       "    </tr>\n",
       "    <tr>\n",
       "      <th>6</th>\n",
       "      <td>0.000350</td>\n",
       "      <td>0.000352</td>\n",
       "      <td>0.000343</td>\n",
       "      <td>0.000346</td>\n",
       "      <td>0.000344</td>\n",
       "      <td>0.000352</td>\n",
       "      <td>0.000350</td>\n",
       "      <td>0.002096</td>\n",
       "      <td>0.001591</td>\n",
       "      <td>0.001406</td>\n",
       "      <td>...</td>\n",
       "      <td>0.000343</td>\n",
       "      <td>0.000335</td>\n",
       "      <td>0.000339</td>\n",
       "      <td>0.000337</td>\n",
       "      <td>0.000328</td>\n",
       "      <td>0.000330</td>\n",
       "      <td>0.000337</td>\n",
       "      <td>0.000337</td>\n",
       "      <td>0.000343</td>\n",
       "      <td>0.000346</td>\n",
       "    </tr>\n",
       "  </tbody>\n",
       "</table>\n",
       "<p>7 rows × 24 columns</p>\n",
       "</div>"
      ],
      "text/plain": [
       "Hour          0         1         2         3         4         5         6   \\\n",
       "DoWeek                                                                         \n",
       "0       0.000312  0.000307  0.000302  0.000307  0.000303  0.000312  0.000307   \n",
       "1       0.000345  0.000355  0.000345  0.000352  0.000347  0.000343  0.000353   \n",
       "2       0.000353  0.000348  0.000345  0.000347  0.000340  0.000350  0.000353   \n",
       "3       0.000353  0.000352  0.000348  0.000348  0.000347  0.000347  0.000357   \n",
       "4       0.000354  0.000350  0.000346  0.000346  0.000346  0.000354  0.000350   \n",
       "5       0.000354  0.000350  0.000350  0.000352  0.000343  0.000346  0.000350   \n",
       "6       0.000350  0.000352  0.000343  0.000346  0.000344  0.000352  0.000350   \n",
       "\n",
       "Hour          7         8         9   ...        14        15        16  \\\n",
       "DoWeek                                ...                                 \n",
       "0       0.001765  0.019998  0.020982  ...  0.016825  0.012338  0.014735   \n",
       "1       0.006875  0.011440  0.024937  ...  0.013362  0.017862  0.015378   \n",
       "2       0.010958  0.008107  0.021953  ...  0.017893  0.010435  0.019962   \n",
       "3       0.007193  0.011482  0.026478  ...  0.017393  0.018418  0.007108   \n",
       "4       0.006276  0.011109  0.026020  ...  0.015454  0.013811  0.011507   \n",
       "5       0.002698  0.000880  0.000891  ...  0.000878  0.001794  0.002946   \n",
       "6       0.002096  0.001591  0.001406  ...  0.000343  0.000335  0.000339   \n",
       "\n",
       "Hour          17        18        19        20        21        22        23  \n",
       "DoWeek                                                                        \n",
       "0       0.004240  0.001975  0.001268  0.000582  0.000347  0.000343  0.000353  \n",
       "1       0.006423  0.002002  0.000927  0.000462  0.000347  0.000347  0.000357  \n",
       "2       0.010677  0.001778  0.001103  0.000547  0.000355  0.000350  0.000350  \n",
       "3       0.003575  0.001458  0.001157  0.000394  0.000359  0.000357  0.000354  \n",
       "4       0.003204  0.001535  0.000787  0.000341  0.000357  0.000352  0.000350  \n",
       "5       0.001230  0.001109  0.000822  0.000350  0.000341  0.000344  0.000343  \n",
       "6       0.000337  0.000328  0.000330  0.000337  0.000337  0.000343  0.000346  \n",
       "\n",
       "[7 rows x 24 columns]"
      ]
     },
     "execution_count": 44,
     "metadata": {},
     "output_type": "execute_result"
    }
   ],
   "source": [
    "df"
   ]
  },
  {
   "cell_type": "markdown",
   "id": "6b4e491a",
   "metadata": {},
   "source": [
    "Con Seaborn stampo la hitmap considerando sul asse x le ore del giorno e sul asse y il giorno \n",
    "della settimana, in colorazione crescente per consumo nel ora del giorno considerata"
   ]
  },
  {
   "cell_type": "code",
   "execution_count": 52,
   "id": "5889469a",
   "metadata": {},
   "outputs": [
    {
     "data": {
      "text/plain": [
       "<AxesSubplot:xlabel='Hour', ylabel='DoWeek'>"
      ]
     },
     "execution_count": 52,
     "metadata": {},
     "output_type": "execute_result"
    },
    {
     "data": {
      "image/png": "[encoded data removed]",
      "text/plain": [
       "<Figure size 432x288 with 2 Axes>"
      ]
     },
     "metadata": {
      "needs_background": "light"
     },
     "output_type": "display_data"
    }
   ],
   "source": [
    "sns.heatmap(df, cbar_kws={'label':'KW/h'}, linewidths=.5)"
   ]
  },
  {
   "cell_type": "code",
   "execution_count": null,
   "id": "271ac35c",
   "metadata": {},
   "outputs": [],
   "source": []
  }
 ],
 "metadata": {
  "kernelspec": {
   "display_name": "Python 3 (ipykernel)",
   "language": "python",
   "name": "python3"
  },
  "language_info": {
   "codemirror_mode": {
    "name": "ipython",
    "version": 3
   },
   "file_extension": ".py",
   "mimetype": "text/x-python",
   "name": "python",
   "nbconvert_exporter": "python",
   "pygments_lexer": "ipython3",
   "version": "3.9.12"
  }
 },
 "nbformat": 4,
 "nbformat_minor": 5
}
