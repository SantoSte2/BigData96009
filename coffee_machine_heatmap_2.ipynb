{
 "cells": [
  {
   "cell_type": "markdown",
   "id": "5e7468f6",
   "metadata": {},
   "source": [
    "Il file 'Data.csv' contiene i dati relativi al consumo di energia elettrica della macchina del caffè di Alexide.\n",
    "La colonna Date rappresenta data e ora della registrazione del sensore. Si noti che le date sono espresse in UTC. Per convertirle nella timezone locale utilizzare\n",
    "df['Date'] = pd.to_datetime(df['Date'], utc = True).dt.tz_convert('Europe/Berlin')\n",
    "La colonna Energy rappresenta il consumo di energia totale, espresso in Wmin (Watt minuto), a partire dall'accensione del sensore. Si noti che il sensore è stato riavviato diverse volte nel periodo di osservazione e, a seguito di ciascun riavvio, il conteggio è ripartito da 0.\n",
    "La colonna *Topic** rappresenta il topic del messaggio mqtt ricevuto dal sensore.\n",
    "\n",
    "Rappresentare i consumi totali in kWh (kiloWatt ora) con una heatmap che abbia sull'asse x le ore del giorno e sull'asse y il giorno della settimana."
   ]
  },
  {
   "cell_type": "markdown",
   "id": "166f75fa",
   "metadata": {},
   "source": [
    "importo le librerie con le quali abbiamo lavorato"
   ]
  },
  {
   "cell_type": "code",
   "execution_count": null,
   "id": "341d5a8f",
   "metadata": {},
   "outputs": [],
   "source": [
    "import numpy as np\n",
    "import pandas as pd\n",
    "import os\n",
    "import glob2\n",
    "from datetime import datetime\n",
    "import matplotlib.pyplot as plt\n",
    "import seaborn as sns"
   ]
  },
  {
   "cell_type": "markdown",
   "id": "97bfe677",
   "metadata": {},
   "source": [
    "carico il file presente nella cartella memorizzandolo nel nostro Data Frame"
   ]
  },
  {
   "cell_type": "code",
   "execution_count": null,
   "id": "18edfd62",
   "metadata": {},
   "outputs": [],
   "source": [
    "df = pd.read_csv('data2.csv')"
   ]
  },
  {
   "cell_type": "markdown",
   "id": "1847da99",
   "metadata": {},
   "source": [
    "visualizzo il DF che ho caricato"
   ]
  },
  {
   "cell_type": "code",
   "execution_count": null,
   "id": "e9ca69e9",
   "metadata": {},
   "outputs": [],
   "source": [
    "df"
   ]
  },
  {
   "cell_type": "markdown",
   "id": "960efbc1",
   "metadata": {},
   "source": [
    "visualizzo le relative informazioni su colonne tipi di dati ed eventuali valori nulli"
   ]
  },
  {
   "cell_type": "code",
   "execution_count": null,
   "id": "028c25a4",
   "metadata": {},
   "outputs": [],
   "source": [
    "df.info()"
   ]
  },
  {
   "cell_type": "markdown",
   "id": "fc3d412f",
   "metadata": {},
   "source": [
    "imposto la data nella colonna Date, la allineo al fuso orario"
   ]
  },
  {
   "cell_type": "code",
   "execution_count": null,
   "id": "050e9815",
   "metadata": {},
   "outputs": [],
   "source": [
    "df['Date'] = pd.to_datetime(df['Date'], utc = True).dt.tz_convert('Europe/Berlin')"
   ]
  },
  {
   "cell_type": "markdown",
   "id": "5ba41d73",
   "metadata": {},
   "source": [
    "controllo l'impostazione della data che sia cambiata"
   ]
  },
  {
   "cell_type": "code",
   "execution_count": null,
   "id": "a94fb615",
   "metadata": {},
   "outputs": [],
   "source": [
    "df.info()"
   ]
  },
  {
   "cell_type": "markdown",
   "id": "9d5e3714",
   "metadata": {},
   "source": [
    "ordino le colonne per data in ordine crescente"
   ]
  },
  {
   "cell_type": "code",
   "execution_count": null,
   "id": "630c61ee",
   "metadata": {},
   "outputs": [],
   "source": [
    "df = df.sort_values('Date')"
   ]
  },
  {
   "cell_type": "markdown",
   "id": "e5f6f8e3",
   "metadata": {},
   "source": [
    "creo una colonna nella quale calocolo la differenza di tempo fra un messagio MQTT e quello successivo al fine di calcolare in seguito il consumo"
   ]
  },
  {
   "cell_type": "code",
   "execution_count": null,
   "id": "37026739",
   "metadata": {},
   "outputs": [],
   "source": [
    "df['DelTim'] = (df['Date'].shift(-1) - df['Date'])\n",
    "df.info()"
   ]
  },
  {
   "cell_type": "markdown",
   "id": "473c3742",
   "metadata": {},
   "source": [
    "considero solo i messaggi MQTT inferiori ai 30 minuti come distanza di arrivo"
   ]
  },
  {
   "cell_type": "code",
   "execution_count": null,
   "id": "3b546a3c",
   "metadata": {},
   "outputs": [],
   "source": [
    "df = df[df['DelTim'] < pd.Timedelta(30, 'm')]"
   ]
  },
  {
   "cell_type": "markdown",
   "id": "6575990e",
   "metadata": {},
   "source": [
    "trasformo la colonna dei Delta dei minuti in ore"
   ]
  },
  {
   "cell_type": "code",
   "execution_count": null,
   "id": "47e4ed28",
   "metadata": {},
   "outputs": [],
   "source": [
    "df['DelTim'] = df['DelTim'].dt.total_seconds()/60"
   ]
  },
  {
   "cell_type": "markdown",
   "id": "ceca89e9",
   "metadata": {},
   "source": [
    "scarto gli eventuali valori 'Nulli'"
   ]
  },
  {
   "cell_type": "code",
   "execution_count": null,
   "id": "bd112c45",
   "metadata": {},
   "outputs": [],
   "source": [
    "df = df.dropna()"
   ]
  },
  {
   "cell_type": "markdown",
   "id": "780da6c3",
   "metadata": {},
   "source": [
    "visualizzo le informazioni dei DF e controllo se tutti i campi sono corretti e se non ci sono\n",
    "più valori nulli"
   ]
  },
  {
   "cell_type": "code",
   "execution_count": null,
   "id": "20060f61",
   "metadata": {},
   "outputs": [],
   "source": [
    "df.info()"
   ]
  },
  {
   "cell_type": "markdown",
   "id": "6105c411",
   "metadata": {},
   "source": [
    "visualizzo il DF completo di valori"
   ]
  },
  {
   "cell_type": "code",
   "execution_count": null,
   "id": "3c203e0e",
   "metadata": {},
   "outputs": [],
   "source": [
    "df"
   ]
  },
  {
   "cell_type": "markdown",
   "id": "8a4fa2c0",
   "metadata": {},
   "source": [
    "converto l'energia impiegata in KWa (chilowatt)"
   ]
  },
  {
   "cell_type": "code",
   "execution_count": null,
   "id": "d1d56578",
   "metadata": {},
   "outputs": [],
   "source": [
    "df['Energy'] = df['Energy']/1000"
   ]
  },
  {
   "cell_type": "markdown",
   "id": "0d6eecb6",
   "metadata": {},
   "source": [
    "creo la colonna del consumo orario (KW/h)"
   ]
  },
  {
   "cell_type": "code",
   "execution_count": null,
   "id": "e089b23d",
   "metadata": {},
   "outputs": [],
   "source": [
    "df['ConsHour'] = df['DelTim']*df['Energy']"
   ]
  },
  {
   "cell_type": "markdown",
   "id": "a2432874",
   "metadata": {},
   "source": [
    "visualizzo il DF completo di valori e con le nuove colonne inserite"
   ]
  },
  {
   "cell_type": "code",
   "execution_count": null,
   "id": "165d721d",
   "metadata": {},
   "outputs": [],
   "source": [
    "df"
   ]
  },
  {
   "cell_type": "markdown",
   "id": "1c3f2adf",
   "metadata": {},
   "source": [
    "visualizzo le informazioni sulle colonne nuove del DF"
   ]
  },
  {
   "cell_type": "code",
   "execution_count": null,
   "id": "d123a5f1",
   "metadata": {},
   "outputs": [],
   "source": [
    "df.info()"
   ]
  },
  {
   "cell_type": "markdown",
   "id": "7b8cdfb4",
   "metadata": {},
   "source": [
    "eseguo il Resample sulla base delle ore, aggrego le colonne di data sommando la colonna del \n",
    "consumo, visualizzo solo le colonne di data 'Date' e consumo 'ConsHour'"
   ]
  },
  {
   "cell_type": "code",
   "execution_count": null,
   "id": "1ed66f91",
   "metadata": {},
   "outputs": [],
   "source": [
    "df = df.resample('H', on='Date').agg({'ConsHour': 'sum'}).reset_index()"
   ]
  },
  {
   "cell_type": "markdown",
   "id": "1c23776d",
   "metadata": {},
   "source": [
    "visualizzo il DF completo di valori e con le nuove modifiche fatte, senza le colonne"
   ]
  },
  {
   "cell_type": "code",
   "execution_count": null,
   "id": "2c7c61df",
   "metadata": {},
   "outputs": [],
   "source": [
    "df"
   ]
  },
  {
   "cell_type": "markdown",
   "id": "1d1fd300",
   "metadata": {},
   "source": [
    "estrapolo dalla colonna 'Date' il nome del giorno col metodo (dayofweek)"
   ]
  },
  {
   "cell_type": "code",
   "execution_count": null,
   "id": "cc4cbc8a",
   "metadata": {},
   "outputs": [],
   "source": [
    "df['DoWeek'] = df['Date'].dt.dayofweek"
   ]
  },
  {
   "cell_type": "markdown",
   "id": "f881aa70",
   "metadata": {},
   "source": [
    "estrapolo dalla colonna 'Date' l'ora  del giorno col metodo (hour)"
   ]
  },
  {
   "cell_type": "code",
   "execution_count": null,
   "id": "a8993f99",
   "metadata": {},
   "outputs": [],
   "source": [
    "df['Hour'] = df['Date'].dt.hour"
   ]
  },
  {
   "cell_type": "markdown",
   "id": "45d7468f",
   "metadata": {},
   "source": [
    "a questo punto scarto la colonna 'Date' e la cancello"
   ]
  },
  {
   "cell_type": "code",
   "execution_count": null,
   "id": "ed36f948",
   "metadata": {},
   "outputs": [],
   "source": [
    "df = df.drop(columns=['Date'])"
   ]
  },
  {
   "cell_type": "markdown",
   "id": "690b00b2",
   "metadata": {},
   "source": [
    "formatto il mio DF in modo da raggruppare per giorno della settimana e ora, sommando i dati \n",
    "appunto in queste colonne ottenendo il consumo di quel giorno della settimana e per quel ora"
   ]
  },
  {
   "cell_type": "code",
   "execution_count": null,
   "id": "497cebf8",
   "metadata": {},
   "outputs": [],
   "source": [
    "df = df.groupby(['DoWeek', 'Hour']).sum()"
   ]
  },
  {
   "cell_type": "markdown",
   "id": "0a79ea36",
   "metadata": {},
   "source": [
    "visualizzo il risultato nel DF"
   ]
  },
  {
   "cell_type": "code",
   "execution_count": null,
   "id": "53427c28",
   "metadata": {},
   "outputs": [],
   "source": [
    "df"
   ]
  },
  {
   "cell_type": "markdown",
   "id": "76d4432f",
   "metadata": {},
   "source": [
    "con la funzione log (logaritmo) si riducono i picchi di valori applicata ai consumi"
   ]
  },
  {
   "cell_type": "code",
   "execution_count": null,
   "id": "6676beee",
   "metadata": {},
   "outputs": [],
   "source": [
    "df['ConsHour'] = np.log(df['ConsHour'])"
   ]
  },
  {
   "cell_type": "markdown",
   "id": "0b4ad010",
   "metadata": {},
   "source": [
    "normalizzo la colonna dei consumi portandola a valori compresi fra 0 e 1 per una \n",
    "rappresentazione migliore"
   ]
  },
  {
   "cell_type": "code",
   "execution_count": null,
   "id": "a23ae5d9",
   "metadata": {},
   "outputs": [],
   "source": [
    "df['ConsHour'] = (df['ConsHour'] - df['ConsHour'].min())/(df['ConsHour'].max() - df['ConsHour'].min())"
   ]
  },
  {
   "cell_type": "code",
   "execution_count": null,
   "id": "7828874a",
   "metadata": {},
   "outputs": [],
   "source": [
    "df"
   ]
  },
  {
   "cell_type": "markdown",
   "id": "d5ca35f1",
   "metadata": {},
   "source": [
    "col metodo unstack creo per ogni ora del giorno la sua relativa colonna"
   ]
  },
  {
   "cell_type": "code",
   "execution_count": null,
   "id": "56cbca3b",
   "metadata": {},
   "outputs": [],
   "source": [
    "df = df.unstack()"
   ]
  },
  {
   "cell_type": "markdown",
   "id": "a7971500",
   "metadata": {},
   "source": [
    "scarto la riga del titolo 'ConsHour' del mio DF mantenendo solo le altre righe"
   ]
  },
  {
   "cell_type": "code",
   "execution_count": null,
   "id": "cbec088f",
   "metadata": {},
   "outputs": [],
   "source": [
    "df.columns = df.columns.droplevel(0)"
   ]
  },
  {
   "cell_type": "markdown",
   "id": "d1869a7c",
   "metadata": {},
   "source": [
    "visualizzo di nuovo il mio DF prima della  Hitmap"
   ]
  },
  {
   "cell_type": "code",
   "execution_count": null,
   "id": "c892ec44",
   "metadata": {},
   "outputs": [],
   "source": [
    "df"
   ]
  },
  {
   "cell_type": "markdown",
   "id": "6b4e491a",
   "metadata": {},
   "source": [
    "con Seaborn stampo la hitmap considerando sul asse x le ore del giorno e sul asse y il giorno \n",
    "della settimana, in colorazione crescente per ogni incrocio nel grafico ho il relativo consumo"
   ]
  },
  {
   "cell_type": "code",
   "execution_count": null,
   "id": "5889469a",
   "metadata": {},
   "outputs": [],
   "source": [
    "sns.heatmap(df, linewidths=.5)"
   ]
  }
 ],
 "metadata": {
  "kernelspec": {
   "display_name": "Python 3 (ipykernel)",
   "language": "python",
   "name": "python3"
  },
  "language_info": {
   "codemirror_mode": {
    "name": "ipython",
    "version": 3
   },
   "file_extension": ".py",
   "mimetype": "text/x-python",
   "name": "python",
   "nbconvert_exporter": "python",
   "pygments_lexer": "ipython3",
   "version": "3.9.12"
  }
 },
 "nbformat": 4,
 "nbformat_minor": 5
}
