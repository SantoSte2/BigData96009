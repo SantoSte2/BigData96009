{
 "cells": [
  {
   "attachments": {},
   "cell_type": "markdown",
   "metadata": {},
   "source": [
    "Il file 'Data.csv' contiene i dati relativi al consumo di energia elettrica della macchina del caffè di Alexide.\\\n",
    "La colonna **Date** rappresenta data e ora della registrazione del sensore. Si noti che le date sono espresse in UTC.\n",
    "Per convertirle nella timezone locale utilizzare\\\n",
    "`df['Date'] = pd.to_datetime(df['Date'], utc = True).dt.tz_convert('Europe/Berlin')`\\\n",
    "La colonna **Energy** rappresenta il consumo di energia totale, espresso in W*min (Watt minuto), a partire dall'accensione del sensore.\n",
    "Si noti che il sensore è stato riavviato diverse volte nel periodo di osservazione e, a seguito di ciascun riavvio, il conteggio è ripartito da 0.\\\n",
    "La colonna **Topic** rappresenta il topic del messaggio mqtt ricevuto dal sensore.\n",
    "\n",
    "Rappresentare i consumi totali in kWh (kiloWatt ora) con una heatmap che abbia sull'asse x le ore del giorno e sull'asse y il giorno della settimana."
   ]
  }
 ],
 "metadata": {
  "kernelspec": {
   "display_name": "base",
   "language": "python",
   "name": "python3"
  },
  "language_info": {
   "codemirror_mode": {
    "name": "ipython",
    "version": 3
   },
   "file_extension": ".py",
   "mimetype": "text/x-python",
   "name": "python",
   "nbconvert_exporter": "python",
   "pygments_lexer": "ipython3",
   "version": "3.9.12"
  },
  "orig_nbformat": 4,
  "vscode": {
   "interpreter": {
    "hash": "464aa7b56be96fc037f5e35b0db8884f870af593c2150f3b2b6a69011aced25c"
   }
  }
 },
 "nbformat": 4,
 "nbformat_minor": 2
}
